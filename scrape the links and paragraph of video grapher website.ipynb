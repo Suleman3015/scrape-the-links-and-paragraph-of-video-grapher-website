{
 "cells": [
  {
   "cell_type": "code",
   "execution_count": 1,
   "metadata": {},
   "outputs": [],
   "source": [
    "import bs4\n",
    "import requests\n",
    "from bs4 import BeautifulSoup"
   ]
  },
  {
   "cell_type": "code",
   "execution_count": 2,
   "metadata": {},
   "outputs": [],
   "source": [
    "url = \"https://www.videograbber.net/top-10-movie-sites.html\""
   ]
  },
  {
   "cell_type": "code",
   "execution_count": 3,
   "metadata": {},
   "outputs": [],
   "source": [
    "data = requests.get(url)"
   ]
  },
  {
   "cell_type": "code",
   "execution_count": 4,
   "metadata": {},
   "outputs": [],
   "source": [
    "soup = bs4.BeautifulSoup(data.text , 'html.parser')"
   ]
  },
  {
   "cell_type": "code",
   "execution_count": 5,
   "metadata": {},
   "outputs": [],
   "source": [
    "#print(soup.prettify())"
   ]
  },
  {
   "cell_type": "markdown",
   "metadata": {},
   "source": [
    "# this is all paragraph of this site\n"
   ]
  },
  {
   "cell_type": "code",
   "execution_count": 6,
   "metadata": {},
   "outputs": [
    {
     "name": "stdout",
     "output_type": "stream",
     "text": [
      "\n",
      "To watch latest movies, cinema will be your best choice. Since the acoustic and visual effects are better, especially for realistic 3D technology films, you can watch them on the huge screens at IMAX theaters. Also, by renting or purchasing Blu-ray discs, together with families or friends, you will be able to enjoy movies with home theatre equipments.\n",
      "However, don’t miss some top online movie websites, an easier to access way to watch favorite movies online, enabling you to enjoy and even download movies on PC with ease. These websites will provide you with movie-related info, reviews and trailers, and also a large number of free full-length movies. Therefore, except for using some bandwidth, most of time watching videos online will not cost you a dime.\n",
      "I. Great sites for online movies\n",
      "II. Awesome method to download online movie\n",
      "Alluc\n",
      "\n",
      "Alluc streams movies for viewers by adding links to movies’ accessible resources. Nothing is hosted by Alluc itself and even the downloadable links. But this full movie website will definitely save your time and effort to discover free online movies to enjoy. Since new movies resources will be constantly added and updated. Furthermore, latest movies are most likely to be accessed for free at Alluc.\n",
      "Picking a movie that either newly added or most viewed, it’s OK to browser by first letter of film titles.\n",
      "MovieWatcher\n",
      "\n",
      "MovieWatcher is a cool site that provides wonderful service in hosting online streams. Upon this site, you can enjoy different movies and TV series. In order to cater for different needs of visitors, it finely classify movies in released years and genres like action, comedy, adventure, crime and many more. In addition, this site also empowers users to download their favorite movie. Hope you will enjoy with this movie site!\n",
      "TMDb\n",
      "\n",
      "It is one of top free online movie sites and the most recommended one. And you will definitely marvel at its large collection of previous and recent released full free movies.\n",
      "Randomly open a movie to watch, multiple resources are available for you to pick. Other viewers’ rates for each version are retained, so you can select high-rated one to watch. At the bottom of webpage, similar movies will be listed. You can log in to comment on any movie. Before playing a real movie, you will be forced to open some ads, don’t bothered by them and close the webpage with them. A large portion of movies can be downloaded for free. Go for it and have a good time!\n",
      "IMDB\n",
      "\n",
      "The most complete and comprehensive internet movie database, more exactly, it refers to showtimes and reviews of movies that are currently at cinema line and upcoming movies. You can also learn about TV shows and episodes’ showtimes at your local time zone. Many famous TV networks are covered, like ABC, CBS, TNT, FOX, TBS, TruTV and VH1.\n",
      "IMDb serves as a big community for movie lovers as well, there, you can rate movies and discuss with other viewers by signing in with IMDB or facebook account. Contributing names, titles and release dates of your favorite actors, actresses and directors is encouraged.\n",
      "Archive.org\n",
      "\n",
      "Tell as the name, the good free movie site archives and collects movies that are in public domain. Also enthusiastic users donate their movies for free access and open distribution. Internet Archive focuses on classic or old films date back to last century, which means you can even find black-and-white or even silent films here.\n",
      "There’re many other categories like stock footages, videos and films collected from Globians film festival. Throughout all the archived movies, you will learn about the history of filmmaking industry and movie characteristics of each period. Multiple ways of browsing movies to help you find what you are interested in.\n",
      "Crackle\n",
      "\n",
      "Among top online movie websites, Crackle contains primarily uncut full length films and TV shows from Sony library and either its own original content. They also syndicate with Hulu, AOL and YouTube and other media portals to provide video content. \n",
      "With very simple web-design structure, you will start watching movies you like in several clicks. Films and web series are streamed in several modes, such as, 360P, 480P. Watching movies in full screen is supported.\n",
      "Solar Movie\n",
      "\n",
      "This is a fantastic good free movie site. Straightly enter into Solar Movie, you will see a full page of most popular movies listed for you. What may surprise you, a large portion of them are latest hot ones. For playing movies, it works as LetMeWatchThis, attaching multiple free video sources to every movie. Details and user rates of each version are added, helping you choose most proper one to watch.\n",
      "It set up a forum for users to discuss and share opinions about everything of movies and TVs. solarmovie.eu deserves to put into your favorite list.\n",
      "Watch Movies\n",
      "\n",
      "The number of movies stored in this site is of large quantity. Therefore you can search for your heart’s movies by entering keywords into search bar. Or alternatively filter by movie title and genres. On the homepage, thumbnails and basic info of movies are offered.\n",
      "It contains movie links to other sites, offering sufficient resources to watch.\n",
      "Tube Plus\n",
      "\n",
      "A gratified organization of video content facilitates you to find desired movies in fast way. TubePlus is a popular one with a myriad of registered users. It does well in analysing feedback from viewers, there is a chart shows you some data about this. From there, you will know the most popular movie type, in which people are interested.\n",
      "If you have the link to related movie, you can submit it. The download address is provided for you behind each playback window.\n",
      "Hulu\n",
      "\n",
      "I believe most people are fans of Hulu. It is such a great place to find both free television multimedia and highest quality movies. Almost all current hot shows, episodes and web series can be found there. On Hulu, you can keep up with your favorite shows, and watch extremely decent quality/HD full movies. Hulu is organized well, so you can filter unwanted kinds of videos quickly. A large number of films released in recent years are available, now take a look at it and don’t miss any excellent one.\n",
      "However, it’s a pity that because of licensing limitations, Hulu now is only open to United States and Japan currently.\n",
      "YouTube Movies\n",
      "\n",
      "YouTube Movie has a decent assortment of movies, e.g. comedy, classic, animation, action or adventure. Movies that are presented to you are either popular or classic ones. A good number of them are free of charge that offered in full length and HD quality. Besides, compared to other sites, there are no that many annoying ads. It is also worth having a look.\n",
      "Most of above top 10 movie sites supplies download feature, while you may also encounter superb movie websites like Hulu and OVGuide which can’t be downloaded directly. Don’t be frustrated, Video Grabber Pro will entitle you to download movies like a breeze. This professional video downloader can help you download videos from mainstream online video sites, such as YouTube, VEVO, Dailymotion, Udemy, etc. In addition, it can detect videos adopting RTMP, HTTP, HTTPS, FTP and more streaming media protocols. Download and install it on your PC, then you can watch your favorite videos offline. \n",
      "Download\n",
      "As to some private or paid videos which can not be downloaded directly, you can record them using Video Grabber. It can record everything in your PC screen free.\n",
      "\n"
     ]
    }
   ],
   "source": [
    "for para in soup.find_all('p'):\n",
    "    print(para.text)"
   ]
  },
  {
   "cell_type": "markdown",
   "metadata": {},
   "source": [
    "# this is all links of the web"
   ]
  },
  {
   "cell_type": "code",
   "execution_count": 14,
   "metadata": {},
   "outputs": [
    {
     "name": "stdout",
     "output_type": "stream",
     "text": [
      "/\n",
      "/pro.html\n",
      "https://download.aoscdn.com/down.php?softid=vdcsaas \n",
      "https://www.videograbber.net/author/grab8wy56w\n",
      "/url-video-downloader.html\n",
      "#1\n",
      "#2\n",
      "http://moviewatcher.io/\n",
      "https://www.themoviedb.org/\n",
      "http://www.imdb.com/\n",
      "http://archive.org/details/moviesandfilms\n",
      "http://www.crackle.com/\n",
      "https://www.tubeplus.site/\n",
      "http://www.hulu.com\n",
      "https://www.youtube.com/movies\n",
      "/pro.html\n",
      "https://download.aoscdn.com/down.php?softid=vdcsaas\n",
      "/\n",
      "https://www.videograbber.net/author/grab8wy56w\n",
      "https://www.videograbber.net/category/free-help-and-resources\n",
      "http://twitter.com/ZoeGree63970831\n",
      "?comment=391969\n",
      "?comment=336921\n",
      "?comment=238933\n",
      "?comment=254744\n",
      "?comment=12298\n",
      "?comment=19046\n",
      "?comment=10618\n",
      "?comment=10619\n",
      "https://download.aoscdn.com/down.php?softid=vdcsaas\n",
      "/audio-grabber\n",
      "/grab-flash-videos.html\n",
      "/screen-video-grabber.html\n",
      "/increase-sound-volume.html\n",
      "/merge-video-files-into-one.html\n",
      "/how-to-watch-hulu-outside-of-us.html\n",
      "/make-lyrics-video-for-youtube.html\n",
      "/download-8k-video.html\n",
      "/transcribe-youtube-video.html \n",
      "/fast-motion-video-editor.html \n",
      "/watch-youtube-on-tv.html \n",
      "/extract-frames-from-video.html\n",
      "https://www.videograbber.net/vlc-media-player-2-0-1-review.html\n",
      "https://www.videograbber.net/savevid-for-mac-review.html\n",
      "https://download.aoscdn.com/down.php?softid=videoeditor\n",
      "/\n",
      "/sitemap.html\n",
      "/contact-us\n",
      "/privacy\n",
      "/terms\n",
      "/cookies-policy\n",
      "https://www.facebook.com/Videograbber\n",
      "http://twitter.com/grabvideo\n",
      "https://www.pinterest.com/VideoGrabber11/\n",
      "https://download.aoscdn.com/down.php?softid=vdcsaas\n"
     ]
    }
   ],
   "source": [
    "for links in soup.find_all('a'):\n",
    "    link = links.get('href')\n",
    "    print(link)"
   ]
  },
  {
   "cell_type": "code",
   "execution_count": null,
   "metadata": {},
   "outputs": [],
   "source": []
  }
 ],
 "metadata": {
  "kernelspec": {
   "display_name": "Python 3",
   "language": "python",
   "name": "python3"
  },
  "language_info": {
   "codemirror_mode": {
    "name": "ipython",
    "version": 3
   },
   "file_extension": ".py",
   "mimetype": "text/x-python",
   "name": "python",
   "nbconvert_exporter": "python",
   "pygments_lexer": "ipython3",
   "version": "3.7.1"
  }
 },
 "nbformat": 4,
 "nbformat_minor": 2
}
